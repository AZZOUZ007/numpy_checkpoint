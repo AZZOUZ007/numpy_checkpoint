{
 "cells": [
  {
   "cell_type": "code",
   "execution_count": 4,
   "id": "df01385f",
   "metadata": {},
   "outputs": [
    {
     "name": "stdout",
     "output_type": "stream",
     "text": [
      "Entez le nombre d'étudiants : 1\n",
      "Entez le nombre de modules : 1\n",
      "Entrez la note de l'étudiant 1, pour le module 1: 89\n",
      "\n",
      "Etudiant\tTotal notes\tPourcentages\tResultat\n",
      "-----------------------------------------------\n",
      "Etudiant 1\t89.0\t\t89.00%\t\tA\n"
     ]
    }
   ],
   "source": [
    "import numpy as np\n",
    "\n",
    "nbr_etudiants = int(input(\"Entez le nombre d'étudiants : \"))\n",
    "nbr_modules = int(input(\"Entez le nombre de modules : \"))\n",
    "\n",
    "notes = np.empty((nbr_etudiants, nbr_modules))\n",
    "\n",
    "for i in range(nbr_etudiants):\n",
    "    for j in range(nbr_modules):\n",
    "        notes[i, j] = float(input(f\"Entrez la note de l'étudiant {i+1}, pour le module {j+1}: \"))\n",
    "\n",
    "total_notes = np.sum(notes, axis=1)\n",
    "\n",
    "pourcentage = (total_notes / (nbr_modules * 100)) * 100\n",
    "\n",
    "def calcul_resultat(pourcentage):\n",
    "    if pourcentage >= 90:\n",
    "        return 'A+'\n",
    "    elif pourcentage >= 80:\n",
    "        return 'A'\n",
    "    elif pourcentage >= 70:\n",
    "        return 'B+'\n",
    "    elif pourcentage >= 60:\n",
    "        return 'B'\n",
    "    elif pourcentage >= 50:\n",
    "        return 'C'\n",
    "    else:\n",
    "        return 'F'\n",
    "\n",
    "resultat = np.vectorize(calcul_resultat)(pourcentage)\n",
    "\n",
    "# Display the result in tabular format\n",
    "print(\"\\nEtudiant\\tTotal notes\\tPourcentages\\tResultat\")\n",
    "print(\"-----------------------------------------------\")\n",
    "for i in range(nbr_etudiants):\n",
    "    print(f\"Etudiant {i+1}\\t{total_notes[i]}\\t\\t{pourcentage[i]:.2f}%\\t\\t{resultat[i]}\")\n"
   ]
  },
  {
   "cell_type": "code",
   "execution_count": null,
   "id": "335c6e29",
   "metadata": {},
   "outputs": [],
   "source": []
  }
 ],
 "metadata": {
  "kernelspec": {
   "display_name": "Python 3 (ipykernel)",
   "language": "python",
   "name": "python3"
  },
  "language_info": {
   "codemirror_mode": {
    "name": "ipython",
    "version": 3
   },
   "file_extension": ".py",
   "mimetype": "text/x-python",
   "name": "python",
   "nbconvert_exporter": "python",
   "pygments_lexer": "ipython3",
   "version": "3.10.9"
  }
 },
 "nbformat": 4,
 "nbformat_minor": 5
}
